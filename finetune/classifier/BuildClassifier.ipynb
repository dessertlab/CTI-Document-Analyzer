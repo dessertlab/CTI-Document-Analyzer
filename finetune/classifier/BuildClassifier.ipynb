{
 "cells": [
  {
   "cell_type": "markdown",
   "metadata": {},
   "source": [
    "# Build Classifier\n",
    "## Load libreries"
   ]
  },
  {
   "cell_type": "code",
   "execution_count": null,
   "metadata": {},
   "outputs": [],
   "source": [
    "import pandas as pd\n",
    "import numpy as np\n",
    "import tensorflow as tf\n",
    "import keras\n",
    "import sklearn \n",
    "import sys\n",
    "import pickle\n",
    "import transformers\n",
    "from sklearn.model_selection import train_test_split\n",
    "from sklearn import preprocessing\n",
    "from keras import models, layers, metrics\n",
    "import datasets\n",
    "from datasets import load_dataset\n",
    "from transformers import AutoTokenizer, AutoModelForMaskedLM"
   ]
  },
  {
   "cell_type": "markdown",
   "metadata": {},
   "source": [
    "## Load dataset"
   ]
  },
  {
   "cell_type": "code",
   "execution_count": null,
   "metadata": {},
   "outputs": [],
   "source": [
    "data_files = {\n",
    "\t\"train\": \"data/classifier-train.parquet\",\n",
    "\t\"valid\": \"data/classifier-valid.parquet\",\n",
    "\t\"test\": \"data/classifier-test.parquet\"\n",
    "}\n",
    "\n",
    "ds = load_dataset(\"parquet\", data_files=data_files)\n",
    "ds"
   ]
  },
  {
   "cell_type": "markdown",
   "metadata": {},
   "source": [
    "## Loading checkpoint and tokenizer"
   ]
  },
  {
   "cell_type": "code",
   "execution_count": null,
   "metadata": {},
   "outputs": [],
   "source": [
    "checkpoint = 'jackaduma/SecBERT'\n",
    "tokenizer = AutoTokenizer.from_pretrained(checkpoint)\n",
    "config = transformers.BertConfig.from_pretrained(checkpoint, output_hidden_states=True)\n",
    "secbert_tf= transformers.TFBertModel.from_pretrained(checkpoint, config=config, trainable=True)"
   ]
  },
  {
   "cell_type": "markdown",
   "metadata": {},
   "source": [
    "### Tokenize text"
   ]
  },
  {
   "cell_type": "code",
   "execution_count": null,
   "metadata": {},
   "outputs": [],
   "source": [
    "def tokenize (batch):\n",
    "    return tokenizer(batch[\"text\"], max_length=512, padding='max_length', truncation=True, return_tensors=\"tf\")"
   ]
  },
  {
   "cell_type": "code",
   "execution_count": null,
   "metadata": {},
   "outputs": [],
   "source": [
    "ds_encoded = ds.map(tokenize, batched= True, batch_size= None)\n",
    "print(ds_encoded[\"train\"].column_names)"
   ]
  },
  {
   "cell_type": "code",
   "execution_count": null,
   "metadata": {},
   "outputs": [],
   "source": [
    "X_tf_train = [tokenizer(text, padding=\"max_length\",max_length = 512, truncation=True)['input_ids'] for text in ds_encoded[\"train\"]['text']]\n",
    "X_tf_train = np.array(X_tf_train, dtype='int32')\n",
    "\n",
    "X_tf_valid = [tokenizer(text, padding=\"max_length\",max_length = 512, truncation=True)['input_ids'] for text in ds_encoded[\"valid\"]['text']]\n",
    "X_tf_valid = np.array(X_tf_valid, dtype='int32')"
   ]
  },
  {
   "cell_type": "code",
   "execution_count": null,
   "metadata": {},
   "outputs": [],
   "source": [
    "y_tf_train = ds_encoded[\"train\"][\"label\"]\n",
    "y_tf_valid = ds_encoded[\"valid\"][\"label\"]\n",
    "\n",
    "y_tf_train = np.array(y_tf_train)\n",
    "y_tf_valid = np.array(y_tf_valid)"
   ]
  },
  {
   "cell_type": "markdown",
   "metadata": {},
   "source": [
    "## Build model"
   ]
  },
  {
   "cell_type": "code",
   "execution_count": null,
   "metadata": {},
   "outputs": [],
   "source": [
    "input_ids_in = layers.Input(shape=(512,), name='input_token', dtype='int32')\n",
    "\n",
    "x = secbert_tf(input_ids=input_ids_in)[0][:,0,:]\n",
    "x = layers.Dropout(0.2, name='dropout')(x)\n",
    "x = layers.Dense(768, activation='relu', name='pre-classifier')(x)\n",
    "x = layers.Dense(190, activation='softmax', name='classification')(x)\n",
    "\n",
    "model_tf = models.Model(inputs=input_ids_in, outputs = x, name='ClassificationModelTF')\n",
    "\n",
    "model_tf.compile(optimizer='adam',loss='sparse_categorical_crossentropy', metrics=[metrics.SparseCategoricalAccuracy()])\n",
    "model_tf.summary()\n",
    "\n"
   ]
  },
  {
   "cell_type": "markdown",
   "metadata": {},
   "source": [
    "## Start training"
   ]
  },
  {
   "cell_type": "code",
   "execution_count": null,
   "metadata": {},
   "outputs": [],
   "source": [
    "\n",
    "# Train the model\n",
    "history = model_tf.fit(X_tf_train, y_tf_train, batch_size=32, shuffle=True, epochs=12, validation_data=(X_tf_valid, y_tf_valid))"
   ]
  },
  {
   "cell_type": "markdown",
   "metadata": {},
   "source": [
    "## Save model"
   ]
  },
  {
   "cell_type": "code",
   "execution_count": null,
   "metadata": {},
   "outputs": [],
   "source": [
    "model_tf.save('output/classificator-secbert.h5')"
   ]
  }
 ],
 "metadata": {
  "kernelspec": {
   "display_name": "Python 3",
   "language": "python",
   "name": "python3"
  },
  "language_info": {
   "codemirror_mode": {
    "name": "ipython",
    "version": 3
   },
   "file_extension": ".py",
   "mimetype": "text/x-python",
   "name": "python",
   "nbconvert_exporter": "python",
   "pygments_lexer": "ipython3",
   "version": "3.10.12"
  }
 },
 "nbformat": 4,
 "nbformat_minor": 2
}
